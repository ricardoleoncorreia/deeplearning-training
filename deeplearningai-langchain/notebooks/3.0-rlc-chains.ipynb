{
 "cells": [
  {
   "cell_type": "markdown",
   "id": "52824b89-532a-4e54-87e9-1410813cd39e",
   "metadata": {},
   "source": [
    "# Chains\n",
    "\n",
    "Base course works with old apis of the library (LLMChain, SimpleSequentialChain, SequentialChain, LLMRouterChain & MultiPromptChain). However, this notebook will work with the suggested classes at the date of this was written (2025-08-15)."
   ]
  },
  {
   "cell_type": "markdown",
   "id": "553daa19",
   "metadata": {},
   "source": [
    "Create base LLM to use in the exercises"
   ]
  },
  {
   "cell_type": "code",
   "execution_count": 1,
   "id": "f2adfce8",
   "metadata": {},
   "outputs": [],
   "source": [
    "from langchain_ollama import ChatOllama\n",
    "\n",
    "llm = ChatOllama(model='llama3.2:1b', temperature=0.9)"
   ]
  },
  {
   "cell_type": "markdown",
   "id": "b940ce7c",
   "metadata": {},
   "source": [
    "## Basic Chain\n",
    "\n",
    "A linear process following the order: `User input -> Prompt -> LLM -> Output`"
   ]
  },
  {
   "cell_type": "code",
   "execution_count": 2,
   "id": "e92dff22",
   "metadata": {
    "height": 64,
    "tags": []
   },
   "outputs": [
    {
     "name": "stdout",
     "output_type": "stream",
     "text": [
      "For a company that produces queen-sized sheet sets, you may want to consider a name that reflects their product offerings, target market, or brand identity. Here are some suggestions:\n",
      "\n",
      "1. **Comfort Keepers**: This name suggests that the company provides products to help customers keep their comfort levels high.\n",
      "2. **Sheet Society**: This name implies that the company is part of a community of people who care about getting the best sheets possible.\n",
      "3. **Bedside Essentials**: This name emphasizes the importance of having essential bedding and sheet sets in one's bedroom.\n",
      "4. **Soft & Secure Sheet Co.**: This name highlights the comfort and security provided by the company's products.\n",
      "5. **Dream Weavers Bedding**: This name suggests that the company is involved in creating a good night's sleep, with its products helping customers weave a restful dream.\n",
      "6. **Restful Slumber Bedding**: This name reinforces the idea of getting a great night's sleep and helps customers associate your brand with relaxation.\n",
      "7. **Bed & Beyond Sheet Set**: This name implies that the company offers high-quality sheet sets that go beyond mere functionality, but also provide a sense of luxury and indulgence.\n",
      "8. **The Comfort Collection**: This name positions the company as a trusted source for comfort-driven products, including its queen-sized sheet sets.\n",
      "\n",
      "Ultimately, the best name will depend on your brand's unique personality, values, and target audience. Take some time to brainstorm, and don't hesitate to experiment with different options until you find the perfect fit.\n"
     ]
    }
   ],
   "source": [
    "\n",
    "from langchain.prompts import ChatPromptTemplate\n",
    "\n",
    "prompt = ChatPromptTemplate.from_template(\"What is the best name to describe a company that makes {product}?\")\n",
    "\n",
    "chain = prompt | llm\n",
    "\n",
    "result = chain.invoke({ \"product\": \"Queen Size Sheet Sets\" })\n",
    "print(result.content)"
   ]
  },
  {
   "cell_type": "markdown",
   "id": "69b03469",
   "metadata": {},
   "source": [
    "## Sequential Chain\n",
    "\n",
    "Used when the process has intermediante output. Initial input is processed and the corresponding output is the input of the following step"
   ]
  },
  {
   "cell_type": "code",
   "execution_count": 3,
   "id": "f0cefeee",
   "metadata": {},
   "outputs": [
    {
     "data": {
      "text/plain": [
       "'\"GreenPack, an eco-friendly packaging solutions provider, offering sustainable and cost-effective alternatives to traditional shipping materials worldwide.\"'"
      ]
     },
     "execution_count": 3,
     "metadata": {},
     "output_type": "execute_result"
    }
   ],
   "source": [
    "from langchain.schema.output_parser import StrOutputParser\n",
    "\n",
    "first_prompt = ChatPromptTemplate.from_template(\n",
    "    \"What is the best name to describe \\\n",
    "    a company that makes {product}? Just return the name, nothing else.\"\n",
    ")\n",
    "\n",
    "second_prompt = ChatPromptTemplate.from_template(\n",
    "    \"Write a 20 words description for the following \\\n",
    "    company:{company_name}\"\n",
    ")\n",
    "\n",
    "chain_test = (\n",
    "    first_prompt           # 1. Creates prompt asking for company name\n",
    "    | llm                 # 2. Sends prompt to language model\n",
    "    | StrOutputParser()   # 3. Extracts just the text content from the AI message\n",
    "    | {\"company_name\": lambda x: x}  # 4. Wraps string in dict with key \"company_name\"\n",
    "    | second_prompt       # 5. Uses dict to fill second prompt template\n",
    "    | llm                 # 6. Sends second prompt to LLM\n",
    "    | StrOutputParser()   # 7. Extracts just the text content from the AI message\n",
    ")\n",
    "\n",
    "chain_test.invoke({ \"product\": \"eco-friendly packaging\" })"
   ]
  },
  {
   "cell_type": "markdown",
   "id": "7b5ce18c",
   "metadata": {},
   "source": [
    "Under some circumstances, one LLM may receive multiple inputs. This is also possible to handle as explained below:"
   ]
  },
  {
   "cell_type": "code",
   "execution_count": 5,
   "id": "d6d11adb",
   "metadata": {},
   "outputs": [
    {
     "name": "stdout",
     "output_type": "stream",
     "text": [
      "Review: El menú es confuso y el control remoto está mal diseñado.\n",
      "Follow-up Message: Aquí te dejo una posible respuesta en español:\n",
      "\n",
      "\"No te preocupes, hemos aprendido de nuestros errores y estamos trabajando para mejorar la experiencia del cliente. Vamos a optimizar el menú y diseñar un control remoto más práctico y fácil de usar. ¡Gracias por tu feedback!\"\n"
     ]
    }
   ],
   "source": [
    "from langchain.schema.runnable import RunnableParallel\n",
    "\n",
    "translation_prompt = ChatPromptTemplate.from_template(\"Translate the following review to english:\\n\\n{Review}\")\n",
    "\n",
    "language_prompt = ChatPromptTemplate.from_template(\"What language is the following review:\\n\\n{Review}\\n\\nReturn ONLY the name of the language in English.\")\n",
    "\n",
    "followup_prompt = ChatPromptTemplate.from_template(\"Write a follow up response in {language} to the following review: {english_summary}\")\n",
    "\n",
    "translation_chain = translation_prompt | llm | StrOutputParser()\n",
    "language_chain = language_prompt | llm | StrOutputParser()\n",
    "followup_chain = followup_prompt | llm | StrOutputParser()\n",
    "\n",
    "overall_chain = RunnableParallel({\n",
    "    \"english_summary\": translation_chain,\n",
    "    \"language\": language_chain,\n",
    "}) | {\n",
    "    \"followup_message\": followup_chain\n",
    "}\n",
    "\n",
    "review = \"El menú es confuso y el control remoto está mal diseñado.\"\n",
    "print(f\"Review: {review}\")\n",
    "followup_message = overall_chain.invoke({\"Review\": review})[\"followup_message\"]\n",
    "print(f\"Follow-up Message: {followup_message}\")"
   ]
  },
  {
   "cell_type": "markdown",
   "id": "069f0121-cf7b-464d-bb3d-6357719188ed",
   "metadata": {},
   "source": [
    "Another use case is when it is needed to route the output to a specific LLM depending on a condition. This can be done in the way exposed below:"
   ]
  },
  {
   "cell_type": "code",
   "execution_count": 6,
   "id": "042df80b",
   "metadata": {},
   "outputs": [],
   "source": [
    "from typing import Literal\n",
    "\n",
    "from langchain_core.output_parsers import StrOutputParser\n",
    "from langchain_core.prompts import ChatPromptTemplate\n",
    "from langchain_core.runnables import RunnableConfig\n",
    "from langgraph.graph import END, START, StateGraph\n",
    "from typing_extensions import TypedDict"
   ]
  },
  {
   "cell_type": "markdown",
   "id": "b4879f07",
   "metadata": {},
   "source": [
    "Let's generate chains for subject matter experts in Physics, Math and History"
   ]
  },
  {
   "cell_type": "code",
   "execution_count": 7,
   "id": "57af5fcc",
   "metadata": {},
   "outputs": [],
   "source": [
    "physics_template = \"\"\"You are a very smart physics professor. \\\n",
    "You are great at answering questions about physics in a concise\\\n",
    "and easy to understand manner. \\\n",
    "When you don't know the answer to a question you admit\\\n",
    "that you don't know.\"\"\"\n",
    "\n",
    "physics_prompt = ChatPromptTemplate.from_messages(\n",
    "    [\n",
    "        (\"system\", physics_template),\n",
    "        (\"human\", \"{input}\"),\n",
    "    ]\n",
    ")\n",
    "\n",
    "physics_chain = physics_prompt | llm | StrOutputParser()"
   ]
  },
  {
   "cell_type": "code",
   "execution_count": 8,
   "id": "8475e885",
   "metadata": {},
   "outputs": [],
   "source": [
    "math_template = \"\"\"You are a very good mathematician. \\\n",
    "You are great at answering math questions. \\\n",
    "You are so good because you are able to break down \\\n",
    "hard problems into their component parts, \n",
    "answer the component parts, and then put them together\\\n",
    "to answer the broader question.\"\"\"\n",
    "\n",
    "math_prompt = ChatPromptTemplate.from_messages(\n",
    "    [\n",
    "        (\"system\", math_template),\n",
    "        (\"human\", \"{input}\"),\n",
    "    ]\n",
    ")\n",
    "\n",
    "math_chain = math_prompt | llm | StrOutputParser()"
   ]
  },
  {
   "cell_type": "code",
   "execution_count": 9,
   "id": "9c937f07",
   "metadata": {},
   "outputs": [],
   "source": [
    "history_template = \"\"\"You are a very good historian. \\\n",
    "You have an excellent knowledge of and understanding of people,\\\n",
    "events and contexts from a range of historical periods. \\\n",
    "You have the ability to think, reflect, debate, discuss and \\\n",
    "evaluate the past. You have a respect for historical evidence\\\n",
    "and the ability to make use of it to support your explanations \\\n",
    "and judgements\"\"\"\n",
    "\n",
    "history_prompt = ChatPromptTemplate.from_messages(\n",
    "    [\n",
    "        (\"system\", history_template),\n",
    "        (\"human\", \"{input}\"),\n",
    "    ]\n",
    ")\n",
    "\n",
    "history_chain = history_prompt | llm | StrOutputParser()"
   ]
  },
  {
   "cell_type": "code",
   "execution_count": 10,
   "id": "4f95e91d",
   "metadata": {},
   "outputs": [],
   "source": [
    "default_prompt = ChatPromptTemplate.from_template(\"{input}\")\n",
    "\n",
    "default_chain = default_prompt | llm | StrOutputParser()"
   ]
  },
  {
   "cell_type": "markdown",
   "id": "e0789f22",
   "metadata": {},
   "source": [
    "Now let's create the router chain by using LangGraph"
   ]
  },
  {
   "cell_type": "code",
   "execution_count": 11,
   "id": "d6378a95",
   "metadata": {
    "height": 30
   },
   "outputs": [],
   "source": [
    "route_system = \"Route the user's query to either the physics, math, history, or default expert.\"\n",
    "route_prompt = ChatPromptTemplate.from_messages(\n",
    "    [\n",
    "        (\"system\", route_system),\n",
    "        (\"human\", \"{input}\"),\n",
    "    ]\n",
    ")\n",
    "\n",
    "\n",
    "# Define schema for output:\n",
    "class RouteQuery(TypedDict):\n",
    "    \"\"\"Route query to destination expert.\"\"\"\n",
    "\n",
    "    destination: Literal[\"physics\", \"math\", \"history\", \"default\"]\n",
    "\n",
    "\n",
    "route_chain = route_prompt | llm.with_structured_output(RouteQuery)\n",
    "\n",
    "# For LangGraph, we will define the state of the graph to hold the query,\n",
    "# destination, and final answer.\n",
    "class State(TypedDict):\n",
    "    query: str\n",
    "    destination: RouteQuery\n",
    "    answer: str\n",
    "\n",
    "\n",
    "# We define functions for each node, including routing the query:\n",
    "async def route_query(state: State, config: RunnableConfig):\n",
    "    destination = await route_chain.ainvoke(state[\"query\"], config)\n",
    "    return {\"destination\": destination}\n",
    "\n",
    "\n",
    "# And one node for each prompt\n",
    "async def physics_prompt(state: State, config: RunnableConfig):\n",
    "    return {\"answer\": await physics_chain.ainvoke(state[\"query\"], config)}\n",
    "\n",
    "async def math_prompt(state: State, config: RunnableConfig):\n",
    "    return {\"answer\": await math_chain.ainvoke(state[\"query\"], config)}\n",
    "\n",
    "async def history_prompt(state: State, config: RunnableConfig):\n",
    "    return {\"answer\": await history_chain.ainvoke(state[\"query\"], config)}\n",
    "\n",
    "async def default_prompt(state: State, config: RunnableConfig):\n",
    "    return {\"answer\": await default_chain.ainvoke(state[\"query\"], config)}\n",
    "\n",
    "# We then define logic that selects the prompt based on the classification\n",
    "def select_node(state: State) -> Literal[\"physics_prompt\", \"math_prompt\", \"history_prompt\", \"default_prompt\"]:\n",
    "    if state[\"destination\"] == \"physics\":\n",
    "        return \"physics_prompt\"\n",
    "    if state[\"destination\"] == \"math\":\n",
    "        return \"math_prompt\"\n",
    "    elif state[\"destination\"] == \"history\":\n",
    "        return \"history_prompt\"\n",
    "    else:\n",
    "        return \"default_prompt\""
   ]
  },
  {
   "cell_type": "markdown",
   "id": "244eef51",
   "metadata": {},
   "source": [
    "Below the graph creation with the previous setup:"
   ]
  },
  {
   "cell_type": "code",
   "execution_count": 12,
   "id": "a329caa0",
   "metadata": {},
   "outputs": [],
   "source": [
    "graph = StateGraph(State)\n",
    "\n",
    "graph.add_node(\"route_query\", route_query)\n",
    "graph.add_node(\"physics_prompt\", physics_prompt)\n",
    "graph.add_node(\"math_prompt\", math_prompt)\n",
    "graph.add_node(\"history_prompt\", history_prompt)\n",
    "graph.add_node(\"default_prompt\", default_prompt)\n",
    "\n",
    "graph.add_edge(START, \"route_query\")\n",
    "graph.add_conditional_edges(\"route_query\", select_node)\n",
    "graph.add_edge(\"physics_prompt\", END)\n",
    "graph.add_edge(\"math_prompt\", END)\n",
    "graph.add_edge(\"history_prompt\", END)\n",
    "graph.add_edge(\"default_prompt\", END)\n",
    "\n",
    "app = graph.compile()"
   ]
  },
  {
   "cell_type": "markdown",
   "id": "f50e2bc2",
   "metadata": {},
   "source": [
    "Start asking the questions:"
   ]
  },
  {
   "cell_type": "code",
   "execution_count": 13,
   "id": "c1d45619",
   "metadata": {},
   "outputs": [],
   "source": [
    "async def ask_question(query: str) -> None:\n",
    "  \"\"\"Ask a question and get an answer.\"\"\"\n",
    "  print(f\"Question: {query}\")\n",
    "  result = await app.ainvoke({\"query\": query})\n",
    "  print(f\"Destination: {result['destination']}\")\n",
    "  print(f\"Answer: {result['answer']}\")"
   ]
  },
  {
   "cell_type": "code",
   "execution_count": 26,
   "id": "77c46ddf",
   "metadata": {
    "height": 30
   },
   "outputs": [
    {
     "name": "stdout",
     "output_type": "stream",
     "text": [
      "Question: What is black body radiation?\n",
      "Destination: {'destination': 'physics'}\n",
      "Answer: Blackbody radiation is a fundamental concept in physics that describes the emission of electromagnetic radiation by an object, such as a gas or a solid, when it is heated above absolute zero (0 Kelvin). The term \"blackbody\" comes from the idea that the object appears to absorb all wavelengths of visible light, regardless of their frequency.\n",
      "\n",
      "In 1879, Max Planck proposed that the energy emitted by an ideal blackbody is quantized and distributed in discrete packets, now known as photons. This theory revolutionized our understanding of the behavior of radiation and laid the foundation for quantum mechanics.\n",
      "\n",
      "The key features of blackbody radiation are:\n",
      "\n",
      "1. **Quantization**: The energy of each photon is determined by Planck's constant (h) and the frequency of the emitted radiation.\n",
      "2. **Discrete spectrum**: The visible light emitted by a blackbody has a discrete spectrum, meaning it consists of a series of closely spaced wavelengths.\n",
      "3. **Absorption and emission**: An ideal blackbody absorbs all wavelengths of visible light, but emits radiation in specific wavelengths, which is known as the blackbody radiation.\n",
      "\n",
      "The behavior of blackbody radiation can be described using Wien's displacement law:\n",
      "\n",
      "W(λ) ∝ λ^4\n",
      "\n",
      "where W(λ) is the wavelength-dependent spectral radiance and λ is the wavelength.\n",
      "\n",
      "Blackbody radiation has many applications in various fields, including:\n",
      "\n",
      "1. **Thermodynamics**: Blackbody radiation is used to describe the thermal radiation emitted by objects at different temperatures.\n",
      "2. **Optics**: The study of blackbody radiation helps us understand the behavior of light and its interactions with matter.\n",
      "3. **Astrophysics**: Blackbody radiation plays a crucial role in understanding the emission spectra of stars, galaxies, and other celestial objects.\n",
      "\n",
      "In summary, blackbody radiation is a fundamental concept that describes the thermal emission of electromagnetic radiation by ideal blackbodies. Its quantized nature, discrete spectrum, and absorption/emission properties have far-reaching implications in various fields of physics and astronomy.\n"
     ]
    }
   ],
   "source": [
    "await ask_question(\"What is black body radiation?\")"
   ]
  },
  {
   "cell_type": "code",
   "execution_count": 25,
   "id": "7031cd5e",
   "metadata": {},
   "outputs": [
    {
     "name": "stdout",
     "output_type": "stream",
     "text": [
      "Question: What is 2 + 2?\n",
      "Destination: {'destination': 'math'}\n",
      "Answer: 2 + 2 = 4.\n"
     ]
    }
   ],
   "source": [
    "await ask_question(\"What is 2 + 2?\")"
   ]
  },
  {
   "cell_type": "code",
   "execution_count": 27,
   "id": "c6f3a117",
   "metadata": {},
   "outputs": [
    {
     "name": "stdout",
     "output_type": "stream",
     "text": [
      "Question: Why does every cell in our body contain DNA?\n",
      "Destination: {'destination': 'default'}\n",
      "Answer: Every cell in the human body contains DNA because it's essential for their function and survival. Here are some reasons why:\n",
      "\n",
      "1. **Genetic information**: DNA contains the genetic instructions for the development, growth, and function of all living cells in the body. It provides the blueprint for creating proteins that perform specific functions, which is necessary for maintaining cellular homeostasis.\n",
      "2. **Cellular identity**: DNA determines an organism's unique identity, including its characteristics, traits, and features. Each cell in the body has a distinct genetic makeup that sets it apart from other cells.\n",
      "3. **Regeneration**: Cells can differentiate into different types of cells, which is essential for growth, repair, and replacement of damaged or dying cells. DNA plays a crucial role in this process by providing instructions for cell differentiation and tissue repair.\n",
      "4. **Protein synthesis**: DNA contains the genetic code that specifies which proteins to produce in each cell. Without DNA, cells wouldn't have the necessary instructions to synthesize proteins, which are essential for maintaining cellular functions.\n",
      "5. **Cellular maintenance**: DNA helps maintain cellular homeostasis by regulating processes such as metabolism, growth, and division. It also provides a mechanism for detecting and responding to cellular stressors.\n",
      "\n",
      "The presence of DNA in every cell is a result of the following factors:\n",
      "\n",
      "* **Mitosis**: During mitosis, each daughter cell receives a complete set of chromosomes from the parent cell's nucleus.\n",
      "* **Meiosis**: During meiosis, sex cells (sperm or egg) undergo genetic recombination and fragmentation to produce unique combinations of chromosomes.\n",
      "* **Epigenetic regulation**: Epigenetic changes, such as DNA methylation and histone modification, can influence gene expression without altering the underlying DNA sequence.\n",
      "\n",
      "In summary, every cell in the human body contains DNA because it's essential for their function, survival, and development. The presence of DNA is a fundamental aspect of cellular biology, and its importance is evident in various aspects of life, from basic reproduction to tissue regeneration.\n"
     ]
    }
   ],
   "source": [
    "await ask_question(\"Why does every cell in our body contain DNA?\")"
   ]
  },
  {
   "cell_type": "code",
   "execution_count": 28,
   "id": "e0aaa145",
   "metadata": {},
   "outputs": [
    {
     "name": "stdout",
     "output_type": "stream",
     "text": [
      "Question: Who is Napoleon Bonaparte?\n",
      "Destination: {'destination': 'history'}\n",
      "Answer: Napoleon Bonaparte was a French military and political leader who rose to power during the French Revolution. He is one of the most iconic figures in modern history, known for his military conquests, strategic genius, and ambitious ambitions.\n",
      "\n",
      "Born on August 15, 1769, in Ajaccio, Corsica, Napoleon graduated from the École Militaire in Paris and became a second lieutenant in the French army at the age of 13. He quickly distinguished himself as a brilliant and courageous officer during the Italian campaign against the Austrians and the Kingdom of Sardinia.\n",
      "\n",
      "In 1796, Napoleon was appointed commander of the French army in Italy, where he led the French to several victories, including the Battle of Arcola. However, his success was short-lived, as the Italian Republic collapsed, and he was forced to retreat.\n",
      "\n",
      "In 1799, Napoleon seized power in a coup d'état, known as the Coup of 18 Brumaire (September 9), which overthrew the French Directory and established the Consulate. He became the First Consul, with significant powers and influence.\n",
      "\n",
      "Napoleon's rise to power continued with his victories in Egypt (1798-1801) and the European Wars against Austria, Prussia, and Russia. His military genius was evident in his tactical innovations and logistical strategies, which allowed him to conquer vast territories.\n",
      "\n",
      "In 1804, Napoleon was crowned Emperor of the French by the French Senate, marking the beginning of the Napoleonic Empire. He centralized power, reorganized Europe through a series of alliances and treaties, including the Treaty of Pressburg (1805) and the Treaty of Amiens (1802).\n",
      "\n",
      "Napoleon's military campaigns expanded into Western Europe, with victories at Jena (1806), Austerlitz (1805), and Borodino (1812). However, his disastrous invasion of Russia in 1812 marked a turning point, as the Russian winter led to his eventual defeat.\n",
      "\n",
      "The Sixth Coalition, consisting of Britain, Russia, Austria, and Prussia, formed an alliance against Napoleon. In 1814, he was exiled to the island of Elba, but escaped and returned to power for a brief period, known as the Hundred Days (November 1804 to March 1806).\n",
      "\n",
      "Napoleon's final defeat came in April 1815, at the Battle of Waterloo, where the coalition forces led by Britain, Prussia, and Russia defeated his army. He was exiled again, this time to the remote island of Saint Helena, where he died on May 5, 1821.\n",
      "\n",
      "Despite his flaws and brutal methods, Napoleon's legacy is complex and multifaceted. He modernized France, centralized power, and expanded the French Empire through military conquests. His impact on European politics and culture continues to be felt today.\n"
     ]
    }
   ],
   "source": [
    "await ask_question(\"Who is Napoleon Bonaparte?\")"
   ]
  }
 ],
 "metadata": {
  "kernelspec": {
   "display_name": "deeplearningai-langchain",
   "language": "python",
   "name": "python3"
  },
  "language_info": {
   "codemirror_mode": {
    "name": "ipython",
    "version": 3
   },
   "file_extension": ".py",
   "mimetype": "text/x-python",
   "name": "python",
   "nbconvert_exporter": "python",
   "pygments_lexer": "ipython3",
   "version": "3.13.5"
  }
 },
 "nbformat": 4,
 "nbformat_minor": 5
}
