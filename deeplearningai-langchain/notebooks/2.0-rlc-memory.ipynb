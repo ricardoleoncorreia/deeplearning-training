{
 "cells": [
  {
   "cell_type": "markdown",
   "id": "a786c77c",
   "metadata": {},
   "source": [
    "# Memory\n",
    "\n",
    "## Outline\n",
    "\n",
    "In previous version, the following memory classes were used:\n",
    "\n",
    "* **ConversationBufferMemory:** allows for storing of messages and then extract them in a variable.\n",
    "* **ConversationBufferWindowMemory:** keeps a list of the interaction of the conversation over tim. It uses the last K interactions.\n",
    "* **ConversationTokenBufferMemory:** keeps a buffer of recent interactions in memory, and uses token length rather than number of interactions to determine when to flush.\n",
    "* **ConversationSummaryMemory:** creates a summary of the conversation over time.\n",
    "\n",
    "Also it supports vector and entity memory and can use multiple memories like Conversational + Entity (to recall individuals).\n",
    "\n",
    "However, they were deprecated so it is recommended to use either BaseChatMessageHistory or RunnableWithMessageHistory.\n",
    "Also follow the recommended memory migration guide https://python.langchain.com/docs/versions/migrating_memory/"
   ]
  },
  {
   "cell_type": "markdown",
   "id": "1297dcd5",
   "metadata": {},
   "source": [
    "## RunnableWithMessageHistory"
   ]
  },
  {
   "cell_type": "code",
   "execution_count": 1,
   "id": "20ad6fe2",
   "metadata": {
    "height": 81,
    "tags": []
   },
   "outputs": [],
   "source": [
    "from langchain_ollama import ChatOllama\n",
    "from langchain_core.runnables.history import RunnableWithMessageHistory\n",
    "from langchain_core.chat_history import InMemoryChatMessageHistory\n",
    "\n",
    "store = {}  # memory is maintained outside the chain\n",
    "session_id = \"1\" # example session ID, can be any unique identifier\n",
    "chat_thread_config = {\n",
    "    \"configurable\": { \"session_id\": session_id }\n",
    "}\n",
    "\n",
    "def get_session_history(session_id: str) -> InMemoryChatMessageHistory:\n",
    "    if session_id not in store:\n",
    "        store[session_id] = InMemoryChatMessageHistory()\n",
    "    return store[session_id]\n",
    "\n",
    "llm = ChatOllama(model='llama3.2:1b', temperature=0.0)\n",
    "\n",
    "chain = RunnableWithMessageHistory(llm, get_session_history)"
   ]
  },
  {
   "cell_type": "markdown",
   "id": "d0cfedea",
   "metadata": {},
   "source": [
    "Let's start a conversation with the chain and ask a question about the movies mentioned in the conversation."
   ]
  },
  {
   "cell_type": "code",
   "execution_count": 2,
   "id": "539acb67",
   "metadata": {},
   "outputs": [
    {
     "name": "stdout",
     "output_type": "stream",
     "text": [
      "You've also watched \"Interstellar\", Rick. That's a great film as well, exploring complex themes like time dilation, wormholes, and the search for a new home for humanity.\n",
      "\n",
      "As for your previous mentions, you've listed:\n",
      "\n",
      "1. \"Inception\"\n",
      "2. \"The Matrix\"\n",
      "3. \"Interstellar\"\n",
      "\n",
      "Let me know if you'd like to discuss any of these films further or if you have any other questions!\n"
     ]
    }
   ],
   "source": [
    "chain.invoke(\"Hi I'm Rick. I have watched 'Inception' and 'The Matrix'.\", config=chat_thread_config)\n",
    "store[session_id].add_user_message(\"Also, I have watched 'Interstellar'.\")\n",
    "question_response = chain.invoke(\"Can you tell me the name of the movies I have mentioned before in this conversation?\", config=chat_thread_config)\n",
    "print(question_response.content)"
   ]
  },
  {
   "cell_type": "markdown",
   "id": "22311d91",
   "metadata": {},
   "source": [
    "`session_id` helps to differentiate between chats so if providing a different id, the AI won't answer with the movies"
   ]
  },
  {
   "cell_type": "code",
   "execution_count": 3,
   "id": "d2e499ab",
   "metadata": {},
   "outputs": [
    {
     "name": "stdout",
     "output_type": "stream",
     "text": [
      "This is the beginning of our conversation, and we haven't discussed any movies yet. What would you like to talk about or ask? I can try to help you remember some movie titles if you'd like.\n"
     ]
    }
   ],
   "source": [
    "question_response = chain.invoke(\n",
    "  \"Can you tell me the name of the two movies I have mentioned before in this conversation?\",\n",
    "  config={ \"configurable\": { \"session_id\": \"2\" } }\n",
    ")\n",
    "print(question_response.content)"
   ]
  }
 ],
 "metadata": {
  "kernelspec": {
   "display_name": "deeplearningai-langchain",
   "language": "python",
   "name": "python3"
  },
  "language_info": {
   "codemirror_mode": {
    "name": "ipython",
    "version": 3
   },
   "file_extension": ".py",
   "mimetype": "text/x-python",
   "name": "python",
   "nbconvert_exporter": "python",
   "pygments_lexer": "ipython3",
   "version": "3.13.5"
  }
 },
 "nbformat": 4,
 "nbformat_minor": 5
}
